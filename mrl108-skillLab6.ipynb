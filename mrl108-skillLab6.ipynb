{
 "cells": [
  {
   "cell_type": "code",
   "execution_count": 22,
   "metadata": {},
   "outputs": [
    {
     "name": "stdin",
     "output_type": "stream",
     "text": [
      "Please enter your name (just letters) Marlon\n",
      "Please enter how many letters you would like to shift (0-25) 6\n"
     ]
    },
    {
     "name": "stdout",
     "output_type": "stream",
     "text": [
      "marlon  shifted by  6 characters is  sgxrut\n"
     ]
    }
   ],
   "source": [
    "name = input(\"Please enter your name (just letters)\").lower()\n",
    "offset = int(input(\"Please enter how many letters you would like to shift (0-25)\"))\n",
    "ret = \"\"\n",
    "\n",
    "for letter in name:\n",
    "    ascii = ord(letter)\n",
    "    ascii += offset\n",
    "    if ascii > 122:\n",
    "        ascii = ascii - 26\n",
    "    ret = ret + chr(ascii)\n",
    "\n",
    "print(name, \" shifted by \", offset, \"characters is \", ret)\n",
    "        "
   ]
  },
  {
   "cell_type": "code",
   "execution_count": null,
   "metadata": {},
   "outputs": [],
   "source": []
  }
 ],
 "metadata": {
  "kernelspec": {
   "display_name": "Python 3",
   "language": "python",
   "name": "python3"
  },
  "language_info": {
   "codemirror_mode": {
    "name": "ipython",
    "version": 3
   },
   "file_extension": ".py",
   "mimetype": "text/x-python",
   "name": "python",
   "nbconvert_exporter": "python",
   "pygments_lexer": "ipython3",
   "version": "3.8.3"
  }
 },
 "nbformat": 4,
 "nbformat_minor": 4
}
